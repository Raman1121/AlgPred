{
  "nbformat": 4,
  "nbformat_minor": 0,
  "metadata": {
    "colab": {
      "name": "Approach 3 Decision Trees.ipynb",
      "version": "0.3.2",
      "provenance": [],
      "toc_visible": true
    },
    "kernelspec": {
      "name": "python3",
      "display_name": "Python 3"
    },
    "accelerator": "GPU"
  },
  "cells": [
    {
      "cell_type": "code",
      "metadata": {
        "id": "WUsUQs8CF46T",
        "colab_type": "code",
        "colab": {}
      },
      "source": [
        "import pandas as pd\n",
        "import numpy as np\n",
        "from sklearn.model_selection import GridSearchCV\n",
        "from sklearn.metrics import accuracy_score, roc_auc_score, matthews_corrcoef\n",
        "import csv"
      ],
      "execution_count": 0,
      "outputs": []
    },
    {
      "cell_type": "code",
      "metadata": {
        "id": "krrYXLH_GCM1",
        "colab_type": "code",
        "colab": {}
      },
      "source": [
        "!pip install -U -q PyDrive\n",
        "\n",
        "from pydrive.auth import GoogleAuth\n",
        "from pydrive.drive import GoogleDrive\n",
        "from google.colab import auth\n",
        "from oauth2client.client import GoogleCredentials\n",
        "\n",
        "auth.authenticate_user()\n",
        "gauth = GoogleAuth()\n",
        "gauth.credentials = GoogleCredentials.get_application_default()\n",
        "drive = GoogleDrive(gauth)"
      ],
      "execution_count": 0,
      "outputs": []
    },
    {
      "cell_type": "code",
      "metadata": {
        "id": "9UORH10xGD8a",
        "colab_type": "code",
        "colab": {}
      },
      "source": [
        "def initialize_test(df_test1, df_test2, df_test3, df_test4, df_test5):\n",
        "    \n",
        "    #Initialize the Test Sets\n",
        "    \n",
        "    \n",
        "    x_test1 = df_test1.iloc[:, 0:-1].values\n",
        "    x_test2 = df_test2.iloc[:, 0:-1].values\n",
        "    x_test3 = df_test3.iloc[:, 0:-1].values\n",
        "    x_test4 = df_test4.iloc[:, 0:-1].values\n",
        "    x_test5 = df_test5.iloc[:, 0:-1].values\n",
        "    \n",
        "    y_test1 = df_test1.iloc[:, -1].values\n",
        "    y_test2 = df_test2.iloc[:, -1].values\n",
        "    y_test3 = df_test3.iloc[:, -1].values\n",
        "    y_test4 = df_test4.iloc[:, -1].values\n",
        "    y_test5 = df_test5.iloc[:, -1].values\n",
        "    \n",
        "    return (x_test1, x_test2, x_test3, x_test4, x_test5, y_test1, y_test2, y_test3, y_test4, y_test5)"
      ],
      "execution_count": 0,
      "outputs": []
    },
    {
      "cell_type": "code",
      "metadata": {
        "id": "O1lm76dRGFiX",
        "colab_type": "code",
        "colab": {}
      },
      "source": [
        "def initialize_train(df_train1, df_train2, df_train3, df_train4, df_train5):\n",
        "    \n",
        "    \n",
        "    \n",
        "    x_train1 = df_train1.iloc[:, 0:-1].values\n",
        "    x_train2 = df_train2.iloc[:, 0:-1].values\n",
        "    x_train3 = df_train3.iloc[:, 0:-1].values\n",
        "    x_train4 = df_train4.iloc[:, 0:-1].values\n",
        "    x_train5 = df_train5.iloc[:, 0:-1].values\n",
        "    \n",
        "    y_train1 = df_train1.iloc[:, -1].values\n",
        "    y_train2 = df_train2.iloc[:, -1].values\n",
        "    y_train3 = df_train3.iloc[:, -1].values\n",
        "    y_train4 = df_train4.iloc[:, -1].values\n",
        "    y_train5 = df_train5.iloc[:, -1].values\n",
        "    \n",
        "    return (x_train1, x_train2, x_train3, x_train4, x_train5, y_train1, y_train2, y_train3, y_train4, y_train5)"
      ],
      "execution_count": 0,
      "outputs": []
    },
    {
      "cell_type": "code",
      "metadata": {
        "id": "C5077Yr4GLmn",
        "colab_type": "code",
        "colab": {}
      },
      "source": [
        "def all_actual_pred():\n",
        "    all_actual_predictions = pd.DataFrame()\n",
        "    \n",
        "    #Converting into DataFrames\n",
        "    y_test1_df = pd.DataFrame(y_test1)\n",
        "    y_test2_df = pd.DataFrame(y_test2)\n",
        "    y_test3_df = pd.DataFrame(y_test3)\n",
        "    y_test4_df = pd.DataFrame(y_test4)\n",
        "    y_test5_df = pd.DataFrame(y_test5)\n",
        "    \n",
        "    all_actual_predictions = all_actual_predictions.append(y_test1_df, ignore_index = True)\n",
        "    all_actual_predictions = all_actual_predictions.append(y_test2_df, ignore_index = True)\n",
        "    all_actual_predictions = all_actual_predictions.append(y_test3_df, ignore_index = True)\n",
        "    all_actual_predictions = all_actual_predictions.append(y_test4_df, ignore_index = True)\n",
        "    all_actual_predictions = all_actual_predictions.append(y_test5_df, ignore_index = True)\n",
        "    \n",
        "    return all_actual_predictions"
      ],
      "execution_count": 0,
      "outputs": []
    },
    {
      "cell_type": "code",
      "metadata": {
        "id": "hLOE4vXLGGy1",
        "colab_type": "code",
        "colab": {}
      },
      "source": [
        "#uploading all training sets\n",
        "link = 'https://drive.google.com/open?id=1zrJ5I3Xh52cEXgdrQIaByJyXOqm0Oede'\n",
        "fluff, id = link.split('=')\n",
        "downloaded = drive.CreateFile({'id':id}) \n",
        "downloaded.GetContentFile('Filename.csv') \n",
        "df_train1 = pd.read_csv('Filename.csv')\n",
        "\n",
        "link = 'https://drive.google.com/open?id=1pWaIlDuSvR2mU36-ATsQNa56AbbAz7bC'\n",
        "fluff, id = link.split('=')\n",
        "downloaded = drive.CreateFile({'id':id}) \n",
        "downloaded.GetContentFile('Filename.csv') \n",
        "df_train2 = pd.read_csv('Filename.csv')\n",
        "\n",
        "\n",
        "link = 'https://drive.google.com/open?id=1H4ri2h41U23je5RSYAOJ6TRsD1VqggTr'\n",
        "fluff, id = link.split('=')\n",
        "downloaded = drive.CreateFile({'id':id}) \n",
        "downloaded.GetContentFile('Filename.csv') \n",
        "df_train3 = pd.read_csv('Filename.csv')\n",
        "\n",
        "\n",
        "link = 'https://drive.google.com/open?id=12zbzfnn51nigk7Vxac2rGmfvNYP-HiyV'\n",
        "fluff, id = link.split('=')\n",
        "downloaded = drive.CreateFile({'id':id}) \n",
        "downloaded.GetContentFile('Filename.csv') \n",
        "df_train4 = pd.read_csv('Filename.csv')\n",
        "\n",
        "\n",
        "link = 'https://drive.google.com/open?id=1EccBXMbu71wqcyUgQHNxTaE65HDAc4Qh'\n",
        "fluff, id = link.split('=')\n",
        "downloaded = drive.CreateFile({'id':id}) \n",
        "downloaded.GetContentFile('Filename.csv') \n",
        "df_train5 = pd.read_csv('Filename.csv')\n",
        "\n"
      ],
      "execution_count": 0,
      "outputs": []
    },
    {
      "cell_type": "code",
      "metadata": {
        "id": "wJEAo_eYGIK1",
        "colab_type": "code",
        "colab": {
          "base_uri": "https://localhost:8080/",
          "height": 697
        },
        "outputId": "6b850208-ad87-4331-8c5f-49b506fd38aa"
      },
      "source": [
        "#uploading all training sets\n",
        "link = 'https://drive.google.com/open?id=17AR45TbtFLOeShy5acBQ3SWaBWDA-xxx'\n",
        "fluff, id = link.split('=')\n",
        "downloaded = drive.CreateFile({'id':id}) \n",
        "downloaded.GetContentFile('Filename.csv') \n",
        "df_test1 = pd.read_csv('Filename.csv')\n",
        "\n",
        "link = 'https://drive.google.com/open?id=1AaPLhieUlaHJAhJmi_4XmFcPBE1Tc2r3'\n",
        "fluff, id = link.split('=')\n",
        "downloaded = drive.CreateFile({'id':id}) \n",
        "downloaded.GetContentFile('Filename.csv') \n",
        "df_test2 = pd.read_csv('Filename.csv')\n",
        "\n",
        "\n",
        "link = 'https://drive.google.com/open?id=1YZBHo3xGPHAKixYbuxXC1hScLFOTaHsL'\n",
        "fluff, id = link.split('=')\n",
        "downloaded = drive.CreateFile({'id':id}) \n",
        "downloaded.GetContentFile('Filename.csv') \n",
        "df_test3 = pd.read_csv('Filename.csv')\n",
        "\n",
        "\n",
        "link = 'https://drive.google.com/open?id=131CD5H6W4ZzYJWjPw3DYekF1WRTNc5dp'\n",
        "fluff, id = link.split('=')\n",
        "downloaded = drive.CreateFile({'id':id}) \n",
        "downloaded.GetContentFile('Filename.csv') \n",
        "df_test4 = pd.read_csv('Filename.csv')\n",
        "\n",
        "\n",
        "link = 'https://drive.google.com/open?id=1-90hOmLg-2DdbFTbarQCyZ_BTmKEUkGy'\n",
        "fluff, id = link.split('=')\n",
        "downloaded = drive.CreateFile({'id':id}) \n",
        "downloaded.GetContentFile('Filename.csv') \n",
        "df_test5 = pd.read_csv('Filename.csv')\n",
        "\n",
        "initialize_test(df_test1, df_test2, df_test3, df_test4, df_test5)"
      ],
      "execution_count": 6,
      "outputs": [
        {
          "output_type": "execute_result",
          "data": {
            "text/plain": [
              "(array([[ 5.77,  4.62,  3.85, ...,  7.31,  3.08,  1.92],\n",
              "        [12.41,  0.  ,  4.71, ...,  7.69,  1.24,  3.72],\n",
              "        [15.71,  0.  ,  2.86, ..., 10.  ,  1.43,  4.29],\n",
              "        ...,\n",
              "        [11.27,  0.49,  4.9 , ...,  4.9 ,  4.9 ,  1.96],\n",
              "        [ 3.61,  2.12,  6.16, ...,  7.22,  1.91,  3.18],\n",
              "        [ 7.27,  1.18,  7.07, ...,  7.07,  0.79,  2.75]]),\n",
              " array([[ 6.18,  4.49,  2.81, ...,  4.49,  1.12,  1.69],\n",
              "        [10.42,  6.94,  4.86, ...,  7.64,  0.69,  3.47],\n",
              "        [ 5.04,  6.2 ,  3.1 , ...,  4.65,  0.  ,  1.55],\n",
              "        ...,\n",
              "        [ 7.43,  0.62,  5.26, ...,  2.79,  4.33,  5.88],\n",
              "        [ 6.38,  8.51,  1.06, ...,  9.57,  0.  ,  6.38],\n",
              "        [ 4.78,  1.84,  4.23, ...,  7.17,  1.1 ,  4.04]]),\n",
              " array([[10.11,  3.93,  6.18, ...,  6.18,  1.12,  2.25],\n",
              "        [ 5.41,  0.  ,  8.11, ...,  5.41,  0.  ,  2.03],\n",
              "        [ 6.05,  1.84,  5.26, ...,  6.05,  2.11,  5.79],\n",
              "        ...,\n",
              "        [ 8.56,  2.52,  6.21, ...,  5.87,  0.84,  3.36],\n",
              "        [ 2.13,  3.19,  6.38, ...,  8.51,  1.06,  3.19],\n",
              "        [16.55,  1.44,  2.88, ..., 10.07,  0.72,  2.16]]),\n",
              " array([[ 6.88,  0.  ,  5.62, ...,  7.5 ,  0.  ,  4.38],\n",
              "        [10.45,  5.97,  3.73, ...,  8.96,  0.  ,  1.49],\n",
              "        [ 8.75,  0.62,  4.38, ...,  8.75,  0.  ,  5.  ],\n",
              "        ...,\n",
              "        [12.45,  0.19, 10.19, ...,  8.49,  0.38,  0.75],\n",
              "        [ 4.46,  3.87,  5.06, ...,  5.65,  2.08,  7.14],\n",
              "        [ 3.99,  0.5 ,  1.75, ...,  3.99,  0.75,  1.75]]),\n",
              " array([[11.39,  0.  ,  7.59, ...,  6.96,  0.  ,  3.8 ],\n",
              "        [11.59,  0.  ,  5.8 , ..., 10.87,  0.  ,  4.35],\n",
              "        [ 8.12,  0.62,  4.38, ...,  9.38,  0.  ,  5.  ],\n",
              "        ...,\n",
              "        [ 5.05,  0.51,  4.55, ..., 13.64,  0.  ,  1.52],\n",
              "        [11.8 ,  0.  ,  7.45, ...,  5.59,  0.  ,  0.62],\n",
              "        [ 6.13,  1.44,  1.44, ...,  5.95,  1.44,  7.03]]),\n",
              " array([1, 1, 1, ..., 0, 0, 0]),\n",
              " array([1, 1, 1, ..., 0, 0, 0]),\n",
              " array([1, 1, 1, ..., 0, 0, 0]),\n",
              " array([1, 1, 1, ..., 0, 0, 0]),\n",
              " array([1, 1, 1, ..., 0, 0, 0]))"
            ]
          },
          "metadata": {
            "tags": []
          },
          "execution_count": 6
        }
      ]
    },
    {
      "cell_type": "code",
      "metadata": {
        "id": "t24oVeoCI6Aq",
        "colab_type": "code",
        "colab": {}
      },
      "source": [
        "x_train1, x_train2, x_train3, x_train4, x_train5, y_train1, y_train2, y_train3, y_train4, y_train5 = initialize_train(df_train1, df_train2, df_train3, df_train4, df_train5)"
      ],
      "execution_count": 0,
      "outputs": []
    },
    {
      "cell_type": "code",
      "metadata": {
        "id": "Up3ny5Z9I5zy",
        "colab_type": "code",
        "colab": {}
      },
      "source": [
        "x_test1, x_test2, x_test3, x_test4, x_test5, y_test1, y_test2, y_test3, y_test4, y_test5 = initialize_test(df_test1, df_test2, df_test3, df_test4, df_test5)"
      ],
      "execution_count": 0,
      "outputs": []
    },
    {
      "cell_type": "markdown",
      "metadata": {
        "id": "HufJWwRhKUY1",
        "colab_type": "text"
      },
      "source": [
        "# Training on Set 1"
      ]
    },
    {
      "cell_type": "code",
      "metadata": {
        "id": "QPUD0Yb4GJjB",
        "colab_type": "code",
        "colab": {}
      },
      "source": [
        "#DECISION TREES\n",
        "from sklearn.tree import DecisionTreeClassifier\n",
        "from sklearn.model_selection import GridSearchCV"
      ],
      "execution_count": 0,
      "outputs": []
    },
    {
      "cell_type": "code",
      "metadata": {
        "id": "llHJ57OZH3iU",
        "colab_type": "code",
        "colab": {}
      },
      "source": [
        "parameters = {'criterion':('gini', 'entropy'), 'min_samples_split' : [10,20,30,40,50], 'max_features': ('auto', 'sqrt', 'log2'), 'max_depth':[10,20,50,100]}"
      ],
      "execution_count": 0,
      "outputs": []
    },
    {
      "cell_type": "code",
      "metadata": {
        "id": "OwyGEzx4Isy4",
        "colab_type": "code",
        "colab": {}
      },
      "source": [
        "clf1 = GridSearchCV(DecisionTreeClassifier(), parameters)"
      ],
      "execution_count": 0,
      "outputs": []
    },
    {
      "cell_type": "code",
      "metadata": {
        "id": "NDTEINSRIxZg",
        "colab_type": "code",
        "colab": {
          "base_uri": "https://localhost:8080/",
          "height": 139
        },
        "outputId": "50a34a71-d38f-4c6b-82e9-c84ebedeecd2"
      },
      "source": [
        "clf1.fit(x_train1, y_train1)\n",
        "best_params_dt = clf1.best_params_\n",
        "best_params_dt"
      ],
      "execution_count": 14,
      "outputs": [
        {
          "output_type": "stream",
          "text": [
            "/usr/local/lib/python3.6/dist-packages/sklearn/model_selection/_split.py:1978: FutureWarning: The default value of cv will change from 3 to 5 in version 0.22. Specify it explicitly to silence this warning.\n",
            "  warnings.warn(CV_WARNING, FutureWarning)\n"
          ],
          "name": "stderr"
        },
        {
          "output_type": "execute_result",
          "data": {
            "text/plain": [
              "{'criterion': 'entropy',\n",
              " 'max_depth': 20,\n",
              " 'max_features': 'auto',\n",
              " 'min_samples_split': 20}"
            ]
          },
          "metadata": {
            "tags": []
          },
          "execution_count": 14
        }
      ]
    },
    {
      "cell_type": "code",
      "metadata": {
        "id": "aXWFYeMFI4cZ",
        "colab_type": "code",
        "colab": {}
      },
      "source": [
        "y_pred1 = clf1.predict(x_test1)\n",
        "y_pred1_df = pd.DataFrame(y_pred1)"
      ],
      "execution_count": 0,
      "outputs": []
    },
    {
      "cell_type": "code",
      "metadata": {
        "id": "UOoEFkKsJAxH",
        "colab_type": "code",
        "colab": {}
      },
      "source": [
        "# Training on 2 with same params\n",
        "clf2 = DecisionTreeClassifier(criterion='entropy', max_depth=20, max_features='auto', min_samples_split=20)\n",
        "clf2.fit(x_train2, y_train2)\n",
        "y_pred2 = clf2.predict(x_test2)\n",
        "y_pred2_df = pd.DataFrame(y_pred2)"
      ],
      "execution_count": 0,
      "outputs": []
    },
    {
      "cell_type": "code",
      "metadata": {
        "id": "13b3O1voKKiM",
        "colab_type": "code",
        "colab": {}
      },
      "source": [
        "# Training on 3 with same params\n",
        "clf3 = DecisionTreeClassifier(criterion='entropy', max_depth=20, max_features='auto', min_samples_split=20)\n",
        "clf3.fit(x_train3, y_train3)\n",
        "y_pred3 = clf3.predict(x_test3)\n",
        "y_pred3_df = pd.DataFrame(y_pred3)"
      ],
      "execution_count": 0,
      "outputs": []
    },
    {
      "cell_type": "code",
      "metadata": {
        "id": "STTU6O6wKYNy",
        "colab_type": "code",
        "colab": {}
      },
      "source": [
        "# Training on 4 with same params\n",
        "clf4 = DecisionTreeClassifier(criterion='entropy', max_depth=20, max_features='auto', min_samples_split=20)\n",
        "clf4.fit(x_train4, y_train4)\n",
        "y_pred4 = clf4.predict(x_test4)\n",
        "y_pred4_df = pd.DataFrame(y_pred4)"
      ],
      "execution_count": 0,
      "outputs": []
    },
    {
      "cell_type": "code",
      "metadata": {
        "id": "qdWGazk4Ke3M",
        "colab_type": "code",
        "colab": {}
      },
      "source": [
        "# Training on 5 with same params\n",
        "clf5 = DecisionTreeClassifier(criterion='entropy', max_depth=20, max_features='auto', min_samples_split=20)\n",
        "clf5.fit(x_train5, y_train5)\n",
        "y_pred5 = clf5.predict(x_test5)\n",
        "y_pred5_df = pd.DataFrame(y_pred5)"
      ],
      "execution_count": 0,
      "outputs": []
    },
    {
      "cell_type": "code",
      "metadata": {
        "id": "A8rmAmaeKnlb",
        "colab_type": "code",
        "colab": {}
      },
      "source": [
        "y_pred_params1 = pd.DataFrame()\n",
        "y_pred_params1 = y_pred_params1.append(y_pred1_df, ignore_index = True)\n",
        "y_pred_params1 = y_pred_params1.append(y_pred2_df, ignore_index = True)\n",
        "y_pred_params1 = y_pred_params1.append(y_pred3_df, ignore_index = True)\n",
        "y_pred_params1 = y_pred_params1.append(y_pred4_df, ignore_index = True)\n",
        "y_pred_params1 = y_pred_params1.append(y_pred5_df, ignore_index = True)\n",
        "y_pred_params1.to_csv('Overall Acc 1.csv')"
      ],
      "execution_count": 0,
      "outputs": []
    },
    {
      "cell_type": "markdown",
      "metadata": {
        "id": "sS0r9r2kQQbL",
        "colab_type": "text"
      },
      "source": [
        "# Training on Set 2"
      ]
    },
    {
      "cell_type": "code",
      "metadata": {
        "id": "pVhwlvW2KrEq",
        "colab_type": "code",
        "colab": {
          "base_uri": "https://localhost:8080/",
          "height": 139
        },
        "outputId": "3abec1bf-e051-4a6a-a1a9-e7b433596573"
      },
      "source": [
        "clf2 = GridSearchCV(DecisionTreeClassifier(), parameters)\n",
        "\n",
        "clf2.fit(x_train2, y_train2)\n",
        "y_pred2 = clf2.predict(x_test2)\n",
        "\n",
        "best_params_dt = clf2.best_params_\n",
        "best_params_dt"
      ],
      "execution_count": 22,
      "outputs": [
        {
          "output_type": "stream",
          "text": [
            "/usr/local/lib/python3.6/dist-packages/sklearn/model_selection/_split.py:1978: FutureWarning: The default value of cv will change from 3 to 5 in version 0.22. Specify it explicitly to silence this warning.\n",
            "  warnings.warn(CV_WARNING, FutureWarning)\n"
          ],
          "name": "stderr"
        },
        {
          "output_type": "execute_result",
          "data": {
            "text/plain": [
              "{'criterion': 'entropy',\n",
              " 'max_depth': 20,\n",
              " 'max_features': 'log2',\n",
              " 'min_samples_split': 10}"
            ]
          },
          "metadata": {
            "tags": []
          },
          "execution_count": 22
        }
      ]
    },
    {
      "cell_type": "code",
      "metadata": {
        "id": "Jqlbtip5Qken",
        "colab_type": "code",
        "colab": {}
      },
      "source": [
        "y_pred2_df = pd.DataFrame(y_pred2)"
      ],
      "execution_count": 0,
      "outputs": []
    },
    {
      "cell_type": "code",
      "metadata": {
        "id": "P0gE1cHfQp2U",
        "colab_type": "code",
        "colab": {}
      },
      "source": [
        "# Training on 1 with same params\n",
        "clf1 = DecisionTreeClassifier(criterion='entropy', max_depth=20, max_features='log2', min_samples_split=10)\n",
        "clf1.fit(x_train1, y_train1)\n",
        "y_pred1 = clf1.predict(x_test1)\n",
        "y_pred1_df = pd.DataFrame(y_pred1)"
      ],
      "execution_count": 0,
      "outputs": []
    },
    {
      "cell_type": "code",
      "metadata": {
        "id": "M7XKK8B2Q78H",
        "colab_type": "code",
        "colab": {}
      },
      "source": [
        "# Training on 3 with same params\n",
        "clf3 = DecisionTreeClassifier(criterion='entropy', max_depth=20, max_features='log2', min_samples_split=10)\n",
        "clf3.fit(x_train3, y_train3)\n",
        "y_pred3 = clf3.predict(x_test3)\n",
        "y_pred3_df = pd.DataFrame(y_pred3)"
      ],
      "execution_count": 0,
      "outputs": []
    },
    {
      "cell_type": "code",
      "metadata": {
        "id": "FznVQLi2RASS",
        "colab_type": "code",
        "colab": {}
      },
      "source": [
        "# Training on 4 with same params\n",
        "clf4 = DecisionTreeClassifier(criterion='entropy', max_depth=20, max_features='log2', min_samples_split=10)\n",
        "clf4.fit(x_train4, y_train4)\n",
        "y_pred4 = clf4.predict(x_test4)\n",
        "y_pred4_df = pd.DataFrame(y_pred4)"
      ],
      "execution_count": 0,
      "outputs": []
    },
    {
      "cell_type": "code",
      "metadata": {
        "id": "YnJuGIR5RFDE",
        "colab_type": "code",
        "colab": {}
      },
      "source": [
        "# Training on 5 with same params\n",
        "clf5 = DecisionTreeClassifier(criterion='entropy', max_depth=20, max_features='log2', min_samples_split=10)\n",
        "clf5.fit(x_train5, y_train5)\n",
        "y_pred5 = clf5.predict(x_test5)\n",
        "y_pred5_df = pd.DataFrame(y_pred5)"
      ],
      "execution_count": 0,
      "outputs": []
    },
    {
      "cell_type": "code",
      "metadata": {
        "id": "2s7R4XpVRLSS",
        "colab_type": "code",
        "colab": {}
      },
      "source": [
        "y_pred_params2 = pd.DataFrame()\n",
        "y_pred_params2 = y_pred_params2.append(y_pred1_df, ignore_index = True)\n",
        "y_pred_params2 = y_pred_params2.append(y_pred2_df, ignore_index = True)\n",
        "y_pred_params2 = y_pred_params2.append(y_pred3_df, ignore_index = True)\n",
        "y_pred_params2 = y_pred_params2.append(y_pred4_df, ignore_index = True)\n",
        "y_pred_params2 = y_pred_params2.append(y_pred5_df, ignore_index = True)\n",
        "y_pred_params2.to_csv('Overall Acc 2.csv', index = False)"
      ],
      "execution_count": 0,
      "outputs": []
    },
    {
      "cell_type": "markdown",
      "metadata": {
        "id": "InLlhA0ORbwz",
        "colab_type": "text"
      },
      "source": [
        "# Training on Set 3"
      ]
    },
    {
      "cell_type": "code",
      "metadata": {
        "id": "yokjItuPRYrk",
        "colab_type": "code",
        "colab": {
          "base_uri": "https://localhost:8080/",
          "height": 139
        },
        "outputId": "7e3638ca-8fdd-4acd-efd9-986e22c9b415"
      },
      "source": [
        "clf3 = GridSearchCV(DecisionTreeClassifier(), parameters)\n",
        "\n",
        "clf3.fit(x_train3, y_train3)\n",
        "y_pred3 = clf3.predict(x_test3)\n",
        "y_pred3_df = pd.DataFrame(y_pred3)\n",
        "\n",
        "best_params_dt3 = clf3.best_params_\n",
        "best_params_dt3"
      ],
      "execution_count": 29,
      "outputs": [
        {
          "output_type": "stream",
          "text": [
            "/usr/local/lib/python3.6/dist-packages/sklearn/model_selection/_split.py:1978: FutureWarning: The default value of cv will change from 3 to 5 in version 0.22. Specify it explicitly to silence this warning.\n",
            "  warnings.warn(CV_WARNING, FutureWarning)\n"
          ],
          "name": "stderr"
        },
        {
          "output_type": "execute_result",
          "data": {
            "text/plain": [
              "{'criterion': 'entropy',\n",
              " 'max_depth': 20,\n",
              " 'max_features': 'sqrt',\n",
              " 'min_samples_split': 30}"
            ]
          },
          "metadata": {
            "tags": []
          },
          "execution_count": 29
        }
      ]
    },
    {
      "cell_type": "code",
      "metadata": {
        "id": "L__Y-qvoRsKj",
        "colab_type": "code",
        "colab": {}
      },
      "source": [
        "# Training on 1 with same params\n",
        "clf1 = DecisionTreeClassifier(criterion='entropy', max_depth=20, max_features='sqrt', min_samples_split=30)\n",
        "clf1.fit(x_train1, y_train1)\n",
        "y_pred1 = clf1.predict(x_test1)\n",
        "y_pred1_df = pd.DataFrame(y_pred1)"
      ],
      "execution_count": 0,
      "outputs": []
    },
    {
      "cell_type": "code",
      "metadata": {
        "id": "yZBLVkC6RzLD",
        "colab_type": "code",
        "colab": {}
      },
      "source": [
        "# Training on 2 with same params\n",
        "clf2 = DecisionTreeClassifier(criterion='entropy', max_depth=20, max_features='sqrt', min_samples_split=30)\n",
        "clf2.fit(x_train2, y_train2)\n",
        "y_pred2 = clf2.predict(x_test2)\n",
        "y_pred2_df = pd.DataFrame(y_pred2)"
      ],
      "execution_count": 0,
      "outputs": []
    },
    {
      "cell_type": "code",
      "metadata": {
        "id": "5UJf4Ot-R5YQ",
        "colab_type": "code",
        "colab": {}
      },
      "source": [
        "# Training on 3 with same params\n",
        "clf3 = DecisionTreeClassifier(criterion='entropy', max_depth=20, max_features='sqrt', min_samples_split=30)\n",
        "clf3.fit(x_train3, y_train3)\n",
        "y_pred3 = clf3.predict(x_test3)\n",
        "y_pred3_df = pd.DataFrame(y_pred3)"
      ],
      "execution_count": 0,
      "outputs": []
    },
    {
      "cell_type": "code",
      "metadata": {
        "id": "UEiaS8e8R-iP",
        "colab_type": "code",
        "colab": {}
      },
      "source": [
        "# Training on 4 with same params\n",
        "clf4 = DecisionTreeClassifier(criterion='entropy', max_depth=20, max_features='sqrt', min_samples_split=30)\n",
        "clf4.fit(x_train4, y_train4)\n",
        "y_pred4 = clf4.predict(x_test4)\n",
        "y_pred4_df = pd.DataFrame(y_pred4)"
      ],
      "execution_count": 0,
      "outputs": []
    },
    {
      "cell_type": "code",
      "metadata": {
        "id": "28vRM9i1SDQP",
        "colab_type": "code",
        "colab": {}
      },
      "source": [
        "# Training on 5 with same params\n",
        "clf5 = DecisionTreeClassifier(criterion='entropy', max_depth=20, max_features='sqrt', min_samples_split=30)\n",
        "clf5.fit(x_train5, y_train5)\n",
        "y_pred5 = clf5.predict(x_test5)\n",
        "y_pred5_df = pd.DataFrame(y_pred5)"
      ],
      "execution_count": 0,
      "outputs": []
    },
    {
      "cell_type": "code",
      "metadata": {
        "id": "5TDfmxkUSGXS",
        "colab_type": "code",
        "colab": {}
      },
      "source": [
        "y_pred_params3 = pd.DataFrame()\n",
        "y_pred_params3 = y_pred_params3.append(y_pred1_df, ignore_index = True)\n",
        "y_pred_params3 = y_pred_params3.append(y_pred2_df, ignore_index = True)\n",
        "y_pred_params3 = y_pred_params3.append(y_pred3_df, ignore_index = True)\n",
        "y_pred_params3 = y_pred_params3.append(y_pred4_df, ignore_index = True)\n",
        "y_pred_params3 = y_pred_params3.append(y_pred5_df, ignore_index = True)\n",
        "y_pred_params3.to_csv('Overall Acc 3.csv', index = False)"
      ],
      "execution_count": 0,
      "outputs": []
    },
    {
      "cell_type": "markdown",
      "metadata": {
        "id": "_qV65VPBSQXe",
        "colab_type": "text"
      },
      "source": [
        "# Training on Set 4"
      ]
    },
    {
      "cell_type": "code",
      "metadata": {
        "id": "SwvKv1ZXSPcK",
        "colab_type": "code",
        "colab": {
          "base_uri": "https://localhost:8080/",
          "height": 139
        },
        "outputId": "7313823d-f729-4546-a0ce-a38211912d35"
      },
      "source": [
        "clf4 = GridSearchCV(DecisionTreeClassifier(), parameters)\n",
        "\n",
        "clf4.fit(x_train4, y_train4)\n",
        "y_pred4 = clf4.predict(x_test4)\n",
        "y_pred4_df = pd.DataFrame(y_pred4)\n",
        "\n",
        "best_params_dt4 = clf4.best_params_\n",
        "best_params_dt4"
      ],
      "execution_count": 36,
      "outputs": [
        {
          "output_type": "stream",
          "text": [
            "/usr/local/lib/python3.6/dist-packages/sklearn/model_selection/_split.py:1978: FutureWarning: The default value of cv will change from 3 to 5 in version 0.22. Specify it explicitly to silence this warning.\n",
            "  warnings.warn(CV_WARNING, FutureWarning)\n"
          ],
          "name": "stderr"
        },
        {
          "output_type": "execute_result",
          "data": {
            "text/plain": [
              "{'criterion': 'entropy',\n",
              " 'max_depth': 100,\n",
              " 'max_features': 'sqrt',\n",
              " 'min_samples_split': 10}"
            ]
          },
          "metadata": {
            "tags": []
          },
          "execution_count": 36
        }
      ]
    },
    {
      "cell_type": "code",
      "metadata": {
        "id": "eVRuyS6hSjKu",
        "colab_type": "code",
        "colab": {}
      },
      "source": [
        "# Training on 1 with same params\n",
        "clf1 = DecisionTreeClassifier(criterion='entropy', max_depth=100, max_features='sqrt', min_samples_split=10)\n",
        "clf1.fit(x_train1, y_train1)\n",
        "y_pred1 = clf1.predict(x_test1)\n",
        "y_pred1_df = pd.DataFrame(y_pred1)"
      ],
      "execution_count": 0,
      "outputs": []
    },
    {
      "cell_type": "code",
      "metadata": {
        "id": "HGwG8-dQSlSo",
        "colab_type": "code",
        "colab": {}
      },
      "source": [
        "# Training on 2 with same params\n",
        "clf2 = DecisionTreeClassifier(criterion='entropy', max_depth=100, max_features='sqrt', min_samples_split=10)\n",
        "clf2.fit(x_train2, y_train2)\n",
        "y_pred2 = clf2.predict(x_test2)\n",
        "y_pred2_df = pd.DataFrame(y_pred2)"
      ],
      "execution_count": 0,
      "outputs": []
    },
    {
      "cell_type": "code",
      "metadata": {
        "id": "-i7VUec4SmzO",
        "colab_type": "code",
        "colab": {}
      },
      "source": [
        "# Training on 3 with same params\n",
        "clf3 = DecisionTreeClassifier(criterion='entropy', max_depth=100, max_features='sqrt', min_samples_split=10)\n",
        "clf3.fit(x_train3, y_train3)\n",
        "y_pred3 = clf3.predict(x_test3)\n",
        "y_pred3_df = pd.DataFrame(y_pred3)"
      ],
      "execution_count": 0,
      "outputs": []
    },
    {
      "cell_type": "code",
      "metadata": {
        "id": "SWnfC6WLSoeP",
        "colab_type": "code",
        "colab": {}
      },
      "source": [
        "# Training on 5 with same params\n",
        "clf5 = DecisionTreeClassifier(criterion='entropy', max_depth=100, max_features='sqrt', min_samples_split=10)\n",
        "clf5.fit(x_train5, y_train5)\n",
        "y_pred5 = clf5.predict(x_test5)\n",
        "y_pred5_df = pd.DataFrame(y_pred5)"
      ],
      "execution_count": 0,
      "outputs": []
    },
    {
      "cell_type": "code",
      "metadata": {
        "id": "wwbikiXhSz0z",
        "colab_type": "code",
        "colab": {}
      },
      "source": [
        "y_pred_params4 = pd.DataFrame()\n",
        "y_pred_params4 = y_pred_params4.append(y_pred1_df, ignore_index = True)\n",
        "y_pred_params4 = y_pred_params4.append(y_pred2_df, ignore_index = True)\n",
        "y_pred_params4 = y_pred_params4.append(y_pred3_df, ignore_index = True)\n",
        "y_pred_params4 = y_pred_params4.append(y_pred4_df, ignore_index = True)\n",
        "y_pred_params4 = y_pred_params4.append(y_pred5_df, ignore_index = True)\n",
        "y_pred_params4.to_csv('Overall Acc 4.csv', index = False)"
      ],
      "execution_count": 0,
      "outputs": []
    },
    {
      "cell_type": "markdown",
      "metadata": {
        "id": "Hy9bHwApTC7M",
        "colab_type": "text"
      },
      "source": [
        "# Training on Set 5"
      ]
    },
    {
      "cell_type": "code",
      "metadata": {
        "id": "KeIoC1jeTB8l",
        "colab_type": "code",
        "colab": {
          "base_uri": "https://localhost:8080/",
          "height": 139
        },
        "outputId": "ce695af8-857c-48dc-cc53-c69d401e3f03"
      },
      "source": [
        "clf5 = GridSearchCV(DecisionTreeClassifier(), parameters)\n",
        "\n",
        "clf5.fit(x_train5, y_train5)\n",
        "y_pred5 = clf5.predict(x_test5)\n",
        "y_pred5_df = pd.DataFrame(y_pred5)\n",
        "\n",
        "best_params_dt5 = clf5.best_params_\n",
        "best_params_dt5"
      ],
      "execution_count": 42,
      "outputs": [
        {
          "output_type": "stream",
          "text": [
            "/usr/local/lib/python3.6/dist-packages/sklearn/model_selection/_split.py:1978: FutureWarning: The default value of cv will change from 3 to 5 in version 0.22. Specify it explicitly to silence this warning.\n",
            "  warnings.warn(CV_WARNING, FutureWarning)\n"
          ],
          "name": "stderr"
        },
        {
          "output_type": "execute_result",
          "data": {
            "text/plain": [
              "{'criterion': 'entropy',\n",
              " 'max_depth': 10,\n",
              " 'max_features': 'sqrt',\n",
              " 'min_samples_split': 10}"
            ]
          },
          "metadata": {
            "tags": []
          },
          "execution_count": 42
        }
      ]
    },
    {
      "cell_type": "code",
      "metadata": {
        "id": "zUTXIFmzTOp5",
        "colab_type": "code",
        "colab": {}
      },
      "source": [
        "# Training on 1 with same params\n",
        "clf1 = DecisionTreeClassifier(criterion='entropy', max_depth=10, max_features='sqrt', min_samples_split=10)\n",
        "clf1.fit(x_train1, y_train1)\n",
        "y_pred1 = clf1.predict(x_test1)\n",
        "y_pred1_df = pd.DataFrame(y_pred1)"
      ],
      "execution_count": 0,
      "outputs": []
    },
    {
      "cell_type": "code",
      "metadata": {
        "id": "BzejUvRQTQt5",
        "colab_type": "code",
        "colab": {}
      },
      "source": [
        "# Training on 2 with same params\n",
        "clf2 = DecisionTreeClassifier(criterion='entropy', max_depth=10, max_features='sqrt', min_samples_split=10)\n",
        "clf2.fit(x_train2, y_train2)\n",
        "y_pred2 = clf2.predict(x_test2)\n",
        "y_pred2_df = pd.DataFrame(y_pred2)"
      ],
      "execution_count": 0,
      "outputs": []
    },
    {
      "cell_type": "code",
      "metadata": {
        "id": "72FRTG7JTSJu",
        "colab_type": "code",
        "colab": {}
      },
      "source": [
        "# Training on 3 with same params\n",
        "clf3 = DecisionTreeClassifier(criterion='entropy', max_depth=10, max_features='sqrt', min_samples_split=10)\n",
        "clf3.fit(x_train3, y_train3)\n",
        "y_pred3 = clf3.predict(x_test3)\n",
        "y_pred3_df = pd.DataFrame(y_pred3)"
      ],
      "execution_count": 0,
      "outputs": []
    },
    {
      "cell_type": "code",
      "metadata": {
        "id": "h-UaDIR9TTuq",
        "colab_type": "code",
        "colab": {}
      },
      "source": [
        "# Training on 4 with same params\n",
        "clf4 = DecisionTreeClassifier(criterion='entropy', max_depth=10, max_features='sqrt', min_samples_split=10)\n",
        "clf4.fit(x_train4, y_train4)\n",
        "y_pred4 = clf4.predict(x_test4)\n",
        "y_pred4_df = pd.DataFrame(y_pred4)"
      ],
      "execution_count": 0,
      "outputs": []
    },
    {
      "cell_type": "code",
      "metadata": {
        "id": "3WnMFMmSTivo",
        "colab_type": "code",
        "colab": {}
      },
      "source": [
        "y_pred_params5 = pd.DataFrame()\n",
        "y_pred_params5 = y_pred_params5.append(y_pred1_df, ignore_index = True)\n",
        "y_pred_params5 = y_pred_params5.append(y_pred2_df, ignore_index = True)\n",
        "y_pred_params5 = y_pred_params5.append(y_pred3_df, ignore_index = True)\n",
        "y_pred_params5 = y_pred_params5.append(y_pred4_df, ignore_index = True)\n",
        "y_pred_params5 = y_pred_params5.append(y_pred5_df, ignore_index = True)\n",
        "y_pred_params5.to_csv('Overall Acc 5.csv', index = False)"
      ],
      "execution_count": 0,
      "outputs": []
    },
    {
      "cell_type": "markdown",
      "metadata": {
        "id": "xnfwibHDTyh5",
        "colab_type": "text"
      },
      "source": [
        "# Combining to calculate accuracy"
      ]
    },
    {
      "cell_type": "code",
      "metadata": {
        "id": "iNvScZZjToiv",
        "colab_type": "code",
        "colab": {}
      },
      "source": [
        "actual_pred_df = all_actual_pred()"
      ],
      "execution_count": 0,
      "outputs": []
    },
    {
      "cell_type": "code",
      "metadata": {
        "id": "pSx_UjeXUELF",
        "colab_type": "code",
        "colab": {}
      },
      "source": [
        "y_test = actual_pred_df.iloc[:,:].values"
      ],
      "execution_count": 0,
      "outputs": []
    },
    {
      "cell_type": "code",
      "metadata": {
        "id": "xSkqu_MDUfDW",
        "colab_type": "code",
        "colab": {
          "base_uri": "https://localhost:8080/",
          "height": 34
        },
        "outputId": "58a8dcac-36cd-4183-e750-5c200d7c4269"
      },
      "source": [
        "len(y_test)"
      ],
      "execution_count": 51,
      "outputs": [
        {
          "output_type": "execute_result",
          "data": {
            "text/plain": [
              "16120"
            ]
          },
          "metadata": {
            "tags": []
          },
          "execution_count": 51
        }
      ]
    },
    {
      "cell_type": "code",
      "metadata": {
        "id": "m0n2ccGqUgx7",
        "colab_type": "code",
        "colab": {
          "base_uri": "https://localhost:8080/",
          "height": 34
        },
        "outputId": "91988f4c-26e5-4b72-f823-e260125f8df3"
      },
      "source": [
        "#Acc 1\n",
        "from sklearn.metrics import accuracy_score\n",
        "overall_acc1 = accuracy_score(y_test,y_pred_params1.iloc[:,:].values)\n",
        "overall_acc1"
      ],
      "execution_count": 52,
      "outputs": [
        {
          "output_type": "execute_result",
          "data": {
            "text/plain": [
              "0.6784119106699752"
            ]
          },
          "metadata": {
            "tags": []
          },
          "execution_count": 52
        }
      ]
    },
    {
      "cell_type": "code",
      "metadata": {
        "id": "JkkoUnbaU14o",
        "colab_type": "code",
        "colab": {
          "base_uri": "https://localhost:8080/",
          "height": 34
        },
        "outputId": "4fba61cd-f756-4f55-cdf1-e2567fea0a96"
      },
      "source": [
        "overall_acc2 = accuracy_score(y_test,y_pred_params2.iloc[:,:].values)\n",
        "overall_acc2"
      ],
      "execution_count": 53,
      "outputs": [
        {
          "output_type": "execute_result",
          "data": {
            "text/plain": [
              "0.6570099255583126"
            ]
          },
          "metadata": {
            "tags": []
          },
          "execution_count": 53
        }
      ]
    },
    {
      "cell_type": "code",
      "metadata": {
        "id": "umlplfaXU5a9",
        "colab_type": "code",
        "colab": {
          "base_uri": "https://localhost:8080/",
          "height": 34
        },
        "outputId": "17e371c5-7bbd-489b-8b5a-70b512b5a18c"
      },
      "source": [
        "overall_acc3 = accuracy_score(y_test,y_pred_params3.iloc[:,:].values)\n",
        "overall_acc3"
      ],
      "execution_count": 54,
      "outputs": [
        {
          "output_type": "execute_result",
          "data": {
            "text/plain": [
              "0.6972704714640199"
            ]
          },
          "metadata": {
            "tags": []
          },
          "execution_count": 54
        }
      ]
    },
    {
      "cell_type": "code",
      "metadata": {
        "id": "V4cprOuOU72L",
        "colab_type": "code",
        "colab": {
          "base_uri": "https://localhost:8080/",
          "height": 34
        },
        "outputId": "b2a70cf8-2807-47b1-c1f3-dd7a9d9bab3b"
      },
      "source": [
        "overall_acc4 = accuracy_score(y_test,y_pred_params4.iloc[:,:].values)\n",
        "overall_acc4"
      ],
      "execution_count": 55,
      "outputs": [
        {
          "output_type": "execute_result",
          "data": {
            "text/plain": [
              "0.7001861042183622"
            ]
          },
          "metadata": {
            "tags": []
          },
          "execution_count": 55
        }
      ]
    },
    {
      "cell_type": "code",
      "metadata": {
        "id": "PVN4SvqgU-We",
        "colab_type": "code",
        "colab": {
          "base_uri": "https://localhost:8080/",
          "height": 34
        },
        "outputId": "fedbc6d0-214e-4f8c-a8a5-75437efff32d"
      },
      "source": [
        "overall_acc5 = accuracy_score(y_test,y_pred_params5.iloc[:,:].values)\n",
        "overall_acc5"
      ],
      "execution_count": 56,
      "outputs": [
        {
          "output_type": "execute_result",
          "data": {
            "text/plain": [
              "0.707258064516129"
            ]
          },
          "metadata": {
            "tags": []
          },
          "execution_count": 56
        }
      ]
    },
    {
      "cell_type": "code",
      "metadata": {
        "id": "ll5mfECYVAgm",
        "colab_type": "code",
        "colab": {}
      },
      "source": [
        ""
      ],
      "execution_count": 0,
      "outputs": []
    }
  ]
}
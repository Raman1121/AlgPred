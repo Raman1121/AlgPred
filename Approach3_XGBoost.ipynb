{
 "cells": [
  {
   "cell_type": "code",
   "execution_count": 2,
   "metadata": {},
   "outputs": [],
   "source": [
    "from xgboost import XGBClassifier\n",
    "import pandas as pd\n",
    "import numpy as np\n",
    "from sklearn.model_selection import GridSearchCV\n",
    "from sklearn.metrics import accuracy_score, roc_auc_score, matthews_corrcoef\n",
    "import csv"
   ]
  },
  {
   "cell_type": "code",
   "execution_count": 3,
   "metadata": {},
   "outputs": [],
   "source": [
    "def initialize_train():\n",
    "    \n",
    "    #Initialize the Training Sets\n",
    "    df_train1 = pd.read_csv('Training Sets/train1_aac.csv')\n",
    "    df_train2 = pd.read_csv('Training Sets/train2_aac.csv')\n",
    "    df_train3 = pd.read_csv('Training Sets/train3_aac.csv')\n",
    "    df_train4 = pd.read_csv('Training Sets/train4_aac.csv')\n",
    "    df_train5 = pd.read_csv('Training Sets/train5_aac.csv')\n",
    "    \n",
    "    x_train1 = df_train1.iloc[:, 0:-1].values\n",
    "    x_train2 = df_train2.iloc[:, 0:-1].values\n",
    "    x_train3 = df_train3.iloc[:, 0:-1].values\n",
    "    x_train4 = df_train4.iloc[:, 0:-1].values\n",
    "    x_train5 = df_train5.iloc[:, 0:-1].values\n",
    "    \n",
    "    y_train1 = df_train1.iloc[:, -1].values\n",
    "    y_train2 = df_train2.iloc[:, -1].values\n",
    "    y_train3 = df_train3.iloc[:, -1].values\n",
    "    y_train4 = df_train4.iloc[:, -1].values\n",
    "    y_train5 = df_train5.iloc[:, -1].values\n",
    "    \n",
    "    return (x_train1, x_train2, x_train3, x_train4, x_train5, y_train1, y_train2, y_train3, y_train4, y_train5)"
   ]
  },
  {
   "cell_type": "code",
   "execution_count": 4,
   "metadata": {},
   "outputs": [],
   "source": [
    "def initialize_test():\n",
    "    \n",
    "    #Initialize the Test Sets\n",
    "    df_test1 = pd.read_csv('Testing Sets/test1_aac.csv')\n",
    "    df_test2 = pd.read_csv('Testing Sets/test2_aac.csv')\n",
    "    df_test3 = pd.read_csv('Testing Sets/test3_aac.csv')\n",
    "    df_test4 = pd.read_csv('Testing Sets/test4_aac.csv')\n",
    "    df_test5 = pd.read_csv('Testing Sets/test5_aac.csv')\n",
    "    \n",
    "    x_test1 = df_test1.iloc[:, 0:-1].values\n",
    "    x_test2 = df_test2.iloc[:, 0:-1].values\n",
    "    x_test3 = df_test3.iloc[:, 0:-1].values\n",
    "    x_test4 = df_test4.iloc[:, 0:-1].values\n",
    "    x_test5 = df_test5.iloc[:, 0:-1].values\n",
    "    \n",
    "    y_test1 = df_test1.iloc[:, -1].values\n",
    "    y_test2 = df_test2.iloc[:, -1].values\n",
    "    y_test3 = df_test3.iloc[:, -1].values\n",
    "    y_test4 = df_test4.iloc[:, -1].values\n",
    "    y_test5 = df_test5.iloc[:, -1].values\n",
    "    \n",
    "    return (x_test1, x_test2, x_test3, x_test4, x_test5, y_test1, y_test2, y_test3, y_test4, y_test5)"
   ]
  },
  {
   "cell_type": "code",
   "execution_count": 5,
   "metadata": {},
   "outputs": [],
   "source": [
    "def all_actual_pred():\n",
    "    all_actual_predictions = pd.DataFrame()\n",
    "    \n",
    "    #Converting into DataFrames\n",
    "    y_test1_df = pd.DataFrame(y_test1)\n",
    "    y_test2_df = pd.DataFrame(y_test2)\n",
    "    y_test3_df = pd.DataFrame(y_test3)\n",
    "    y_test4_df = pd.DataFrame(y_test4)\n",
    "    y_test5_df = pd.DataFrame(y_test5)\n",
    "    \n",
    "    all_actual_predictions = all_actual_predictions.append(y_test1_df, ignore_index = True)\n",
    "    all_actual_predictions = all_actual_predictions.append(y_test2_df, ignore_index = True)\n",
    "    all_actual_predictions = all_actual_predictions.append(y_test3_df, ignore_index = True)\n",
    "    all_actual_predictions = all_actual_predictions.append(y_test4_df, ignore_index = True)\n",
    "    all_actual_predictions = all_actual_predictions.append(y_test5_df, ignore_index = True)\n",
    "    \n",
    "    return all_actual_predictions"
   ]
  },
  {
   "cell_type": "code",
   "execution_count": 6,
   "metadata": {},
   "outputs": [],
   "source": [
    "x_train1, x_train2, x_train3, x_train4, x_train5, y_train1, y_train2, y_train3, y_train4, y_train5 = initialize_train()"
   ]
  },
  {
   "cell_type": "code",
   "execution_count": 7,
   "metadata": {},
   "outputs": [],
   "source": [
    "x_test1, x_test2, x_test3, x_test4, x_test5, y_test1, y_test2, y_test3, y_test4, y_test5 = initialize_test()"
   ]
  },
  {
   "cell_type": "code",
   "execution_count": 8,
   "metadata": {},
   "outputs": [],
   "source": [
    "parameters = {'max_depth':[6,7,8,9,10], 'objective':['binary:logistic'], 'learning_rate': [0.05, 0.06, 0.08, 0.1], 'n_estimators':[20,30,40,50,60,70,80,90,100], 'booster' : ('gbtree', 'gblinear', 'dart'), 'max_features': ('auto', 'sqrt', 'log2'), 'colsample_bytree': [0.7]}"
   ]
  },
  {
   "cell_type": "markdown",
   "metadata": {},
   "source": [
    "## Training on Set 5"
   ]
  },
  {
   "cell_type": "code",
   "execution_count": 9,
   "metadata": {},
   "outputs": [
    {
     "name": "stderr",
     "output_type": "stream",
     "text": [
      "/home/raman/anaconda3/lib/python3.6/site-packages/sklearn/model_selection/_split.py:1978: FutureWarning: The default value of cv will change from 3 to 5 in version 0.22. Specify it explicitly to silence this warning.\n",
      "  warnings.warn(CV_WARNING, FutureWarning)\n"
     ]
    },
    {
     "data": {
      "text/plain": [
       "{'booster': 'dart',\n",
       " 'colsample_bytree': 0.7,\n",
       " 'learning_rate': 0.08,\n",
       " 'max_depth': 8,\n",
       " 'max_features': 'auto',\n",
       " 'n_estimators': 100,\n",
       " 'objective': 'binary:logistic'}"
      ]
     },
     "execution_count": 9,
     "metadata": {},
     "output_type": "execute_result"
    }
   ],
   "source": [
    "clf5 = GridSearchCV(XGBClassifier(), parameters)\n",
    "clf5.fit(x_train5, y_train5)\n",
    "best_params_xgb5 = clf5.best_params_\n",
    "best_params_xgb5"
   ]
  },
  {
   "cell_type": "code",
   "execution_count": 10,
   "metadata": {},
   "outputs": [],
   "source": [
    "y_pred5 = clf5.predict(x_test5)\n",
    "y_pred5_df = pd.DataFrame(y_pred5)"
   ]
  },
  {
   "cell_type": "code",
   "execution_count": 11,
   "metadata": {},
   "outputs": [],
   "source": [
    "#Training on Set 1 with same params\n",
    "clf1 = XGBClassifier(booster = 'dart', colsample_bytree=0.7, learning_rate=0.08, max_depth=8, max_features = 'auto', n_estimators=100, objective='binary:logistic')\n",
    "clf1.fit(x_train1, y_train1)\n",
    "y_pred1 = clf1.predict(x_test1)\n",
    "y_pred1_df = pd.DataFrame(y_pred1)\n"
   ]
  },
  {
   "cell_type": "code",
   "execution_count": 12,
   "metadata": {},
   "outputs": [],
   "source": [
    "#Training with same params on set 2\n",
    "clf2 = XGBClassifier(booster = 'dart', colsample_bytree=0.7, learning_rate=0.08, max_depth=8, max_features = 'auto', n_estimators=100, objective='binary:logistic')\n",
    "clf2.fit(x_train2, y_train2)\n",
    "y_pred2 = clf2.predict(x_test2)\n",
    "y_pred2_df = pd.DataFrame(y_pred2)\n"
   ]
  },
  {
   "cell_type": "code",
   "execution_count": 13,
   "metadata": {},
   "outputs": [],
   "source": [
    "#Training on Set 3 with same params\n",
    "clf3 = XGBClassifier(booster = 'dart', colsample_bytree=0.7, learning_rate=0.08, max_depth=8, max_features = 'auto', n_estimators=100, objective='binary:logistic')\n",
    "clf3.fit(x_train3, y_train3)\n",
    "y_pred3 = clf3.predict(x_test3)\n",
    "y_pred3_df = pd.DataFrame(y_pred3)\n"
   ]
  },
  {
   "cell_type": "code",
   "execution_count": 14,
   "metadata": {},
   "outputs": [],
   "source": [
    "#Training on Set 4 with same params\n",
    "clf4 = XGBClassifier(booster = 'dart', colsample_bytree=0.7, learning_rate=0.08, max_depth=8, max_features = 'auto', n_estimators=100, objective='binary:logistic')\n",
    "clf4.fit(x_train4, y_train4)\n",
    "y_pred4 = clf4.predict(x_test4)\n",
    "y_pred4_df = pd.DataFrame(y_pred4)\n"
   ]
  },
  {
   "cell_type": "code",
   "execution_count": 15,
   "metadata": {},
   "outputs": [],
   "source": [
    "#Training on Set 5 with same params\n",
    "clf5 = XGBClassifier(booster = 'dart', colsample_bytree=0.7, learning_rate=0.08, max_depth=8, max_features = 'auto', n_estimators=100, objective='binary:logistic')\n",
    "clf5.fit(x_train5, y_train5)\n",
    "y_pred5 = clf5.predict(x_test5)\n",
    "y_pred5_df = pd.DataFrame(y_pred5)\n"
   ]
  },
  {
   "cell_type": "code",
   "execution_count": 16,
   "metadata": {},
   "outputs": [],
   "source": [
    "y_pred_params5 = pd.DataFrame()\n",
    "y_pred_params5 = y_pred_params5.append(y_pred1_df, ignore_index = True)\n",
    "y_pred_params5 = y_pred_params5.append(y_pred2_df, ignore_index = True)\n",
    "y_pred_params5 = y_pred_params5.append(y_pred3_df, ignore_index = True)\n",
    "y_pred_params5 = y_pred_params5.append(y_pred4_df, ignore_index = True)\n",
    "y_pred_params5 = y_pred_params5.append(y_pred5_df, ignore_index = True)\n",
    "y_pred_params5.to_csv('Results/XGBoost/Overall Acc 5.csv', index = False)"
   ]
  },
  {
   "cell_type": "code",
   "execution_count": 17,
   "metadata": {},
   "outputs": [
    {
     "data": {
      "text/plain": [
       "16120"
      ]
     },
     "execution_count": 17,
     "metadata": {},
     "output_type": "execute_result"
    }
   ],
   "source": [
    "y_test_df = all_actual_pred()\n",
    "y_test = y_test_df.iloc[:,:].values\n",
    "len(y_test)"
   ]
  },
  {
   "cell_type": "code",
   "execution_count": 18,
   "metadata": {},
   "outputs": [],
   "source": [
    "ov_acc1 = pd.read_csv('Results/XGBoost/Overall Acc 1.csv')\n",
    "ov_acc2 = pd.read_csv('Results/XGBoost/Overall Acc 2.csv')\n",
    "ov_acc3 = pd.read_csv('Results/XGBoost/Overall Acc 3.csv')\n",
    "ov_acc4 = pd.read_csv('Results/XGBoost/Overall Acc 4.csv')\n",
    "ov_acc5 = pd.read_csv('Results/XGBoost/Overall Acc 5.csv')\n"
   ]
  },
  {
   "cell_type": "code",
   "execution_count": 19,
   "metadata": {},
   "outputs": [
    {
     "data": {
      "text/plain": [
       "0.7738833746898263"
      ]
     },
     "execution_count": 19,
     "metadata": {},
     "output_type": "execute_result"
    }
   ],
   "source": [
    "from sklearn.metrics import accuracy_score\n",
    "acc1 = accuracy_score(y_test, ov_acc1.iloc[:,:].values)\n",
    "acc1"
   ]
  },
  {
   "cell_type": "code",
   "execution_count": 20,
   "metadata": {},
   "outputs": [
    {
     "data": {
      "text/plain": [
       "0.7689826302729529"
      ]
     },
     "execution_count": 20,
     "metadata": {},
     "output_type": "execute_result"
    }
   ],
   "source": [
    "from sklearn.metrics import accuracy_score\n",
    "acc2 = accuracy_score(y_test, ov_acc2.iloc[:,:].values)\n",
    "acc2"
   ]
  },
  {
   "cell_type": "code",
   "execution_count": 21,
   "metadata": {},
   "outputs": [
    {
     "data": {
      "text/plain": [
       "0.794106699751861"
      ]
     },
     "execution_count": 21,
     "metadata": {},
     "output_type": "execute_result"
    }
   ],
   "source": [
    "from sklearn.metrics import accuracy_score\n",
    "acc3 = accuracy_score(y_test, ov_acc3.iloc[:,:].values)\n",
    "acc3"
   ]
  },
  {
   "cell_type": "code",
   "execution_count": 22,
   "metadata": {},
   "outputs": [
    {
     "data": {
      "text/plain": [
       "0.7665632754342432"
      ]
     },
     "execution_count": 22,
     "metadata": {},
     "output_type": "execute_result"
    }
   ],
   "source": [
    "from sklearn.metrics import accuracy_score\n",
    "acc4 = accuracy_score(y_test, ov_acc4.iloc[:,:].values)\n",
    "acc4"
   ]
  },
  {
   "cell_type": "code",
   "execution_count": 23,
   "metadata": {},
   "outputs": [
    {
     "data": {
      "text/plain": [
       "0.7752481389578164"
      ]
     },
     "execution_count": 23,
     "metadata": {},
     "output_type": "execute_result"
    }
   ],
   "source": [
    "from sklearn.metrics import accuracy_score\n",
    "acc5 = accuracy_score(y_test, ov_acc5.iloc[:,:].values)\n",
    "acc5"
   ]
  },
  {
   "cell_type": "code",
   "execution_count": null,
   "metadata": {},
   "outputs": [],
   "source": []
  }
 ],
 "metadata": {
  "kernelspec": {
   "display_name": "Python 3",
   "language": "python",
   "name": "python3"
  },
  "language_info": {
   "codemirror_mode": {
    "name": "ipython",
    "version": 3
   },
   "file_extension": ".py",
   "mimetype": "text/x-python",
   "name": "python",
   "nbconvert_exporter": "python",
   "pygments_lexer": "ipython3",
   "version": "3.6.8"
  }
 },
 "nbformat": 4,
 "nbformat_minor": 2
}
